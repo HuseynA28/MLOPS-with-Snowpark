{
 "cells": [
  {
   "cell_type": "code",
   "execution_count": null,
   "metadata": {},
   "outputs": [],
   "source": [
    "import snowflake.snowpark.functions as F\n",
    "from snowflake.snowpark.session import Session\n",
    "from snowflake.snowpark.types import StructType, StructField, FloatType\n",
    "from snowflake.snowpark import Session\n",
    "import os\n",
    "import json"
   ]
  },
  {
   "cell_type": "code",
   "execution_count": null,
   "metadata": {},
   "outputs": [],
   "source": [
    "# Assuming you have environment variables set for the credentials\n",
    "connection_parameters = {\n",
    "    \"account\": os.getenv(\"SNOWFLAKE_ACCOUNT\"),\n",
    "    \"user\": os.getenv(\"SNOWFLAKE_USER\"),\n",
    "    \"password\": os.getenv(\"SNOWFLAKE_PASSWORD\"),\n",
    "    \"schema\": os.getenv(\"SNOWFLAKE_SCHEMA\"),\n",
    "    \"database\": os.getenv(\"SNOWFLAKE_DATABASE\"),\n",
    "    \"role\": os.getenv(\"SNOWFLAKE_ROLE\"),\n",
    "    \"warehouse\": os.getenv(\"SNOWFLAKE_WAREHOUSE\"),\n",
    "}\n",
    "\n",
    "session = Session.builder.configs(connection_parameters).create()"
   ]
  },
  {
   "cell_type": "code",
   "execution_count": null,
   "metadata": {},
   "outputs": [],
   "source": [
    "#with open(r'C:\\Users\\habdullayev\\Documents\\GitHub\\SnowflakeML\\Snowflake_ML_Intro\\creds.json') as f:\n",
    "    #connection_parameters = json.load(f)\n",
    "\n",
    "#session = Session.builder.configs(connection_parameters).create()\n",
    "#print(f\"Current Database and schema: {session.get_fully_qualified_current_schema()}\")\n",
    "#print(f\"Current Warehouse: {session.get_current_warehouse()}\")"
   ]
  },
  {
   "cell_type": "code",
   "execution_count": null,
   "metadata": {},
   "outputs": [],
   "source": [
    "ad_df = session.table(\"ADVERTISING\")"
   ]
  },
  {
   "cell_type": "code",
   "execution_count": null,
   "metadata": {},
   "outputs": [],
   "source": [
    "ad_df.show()"
   ]
  },
  {
   "cell_type": "code",
   "execution_count": null,
   "metadata": {},
   "outputs": [],
   "source": [
    "def convert_to_float(column):\n",
    "    return F.regexp_replace(F.col(column), '_', '.').cast(FloatType())"
   ]
  },
  {
   "cell_type": "code",
   "execution_count": null,
   "metadata": {},
   "outputs": [],
   "source": [
    "# Apply conversion to all columns\n",
    "ad_df = ad_df.with_column(\"TV\", convert_to_float(\"TV\")) \\\n",
    "             .with_column(\"RADIO\", convert_to_float(\"RADIO\")) \\\n",
    "             .with_column(\"NEWSPAPER\", convert_to_float(\"NEWSPAPER\")) \\\n",
    "             .with_column(\"SALES\", convert_to_float(\"SALES\"))"
   ]
  },
  {
   "cell_type": "code",
   "execution_count": null,
   "metadata": {},
   "outputs": [],
   "source": [
    "missing_values = ad_df.select(\n",
    "    F.sum(F.col(\"TV\").is_null().cast(\"int\")).alias(\"TV_missing\"),\n",
    "    F.sum(F.col(\"RADIO\").is_null().cast(\"int\")).alias(\"RADIO_missing\"),\n",
    "    F.sum(F.col(\"NEWSPAPER\").is_null().cast(\"int\")).alias(\"NEWSPAPER_missing\"),\n",
    "    F.sum(F.col(\"SALES\").is_null().cast(\"int\")).alias(\"SALES_missing\")\n",
    ").collect()"
   ]
  },
  {
   "cell_type": "code",
   "execution_count": null,
   "metadata": {},
   "outputs": [],
   "source": [
    "print(\"Missing Values:\", missing_values)"
   ]
  },
  {
   "cell_type": "code",
   "execution_count": null,
   "metadata": {},
   "outputs": [],
   "source": [
    "medians = ad_df.agg(\n",
    "    F.median(\"TV\").alias(\"TV_MEDIAN\"),\n",
    "    F.median(\"RADIO\").alias(\"RADIO_MEDIAN\"),\n",
    "    F.median(\"NEWSPAPER\").alias(\"NEWSPAPER_MEDIAN\"),\n",
    "    F.median(\"SALES\").alias(\"SALES_MEDIAN\")\n",
    ").collect()"
   ]
  },
  {
   "cell_type": "code",
   "execution_count": null,
   "metadata": {},
   "outputs": [],
   "source": [
    "tv_median = medians[0][\"TV_MEDIAN\"]\n",
    "radio_median = medians[0][\"RADIO_MEDIAN\"]\n",
    "newspaper_median = medians[0][\"NEWSPAPER_MEDIAN\"]\n",
    "sales_median = medians[0][\"SALES_MEDIAN\"]\n"
   ]
  },
  {
   "cell_type": "code",
   "execution_count": null,
   "metadata": {},
   "outputs": [],
   "source": [
    "ad_df = ad_df.na.fill({\n",
    "    \"TV\": tv_median,\n",
    "    \"RADIO\": radio_median,\n",
    "    \"NEWSPAPER\": newspaper_median,\n",
    "    \"SALES\": sales_median\n",
    "})"
   ]
  },
  {
   "cell_type": "code",
   "execution_count": null,
   "metadata": {},
   "outputs": [],
   "source": [
    "ad_df.show()"
   ]
  },
  {
   "cell_type": "code",
   "execution_count": 38,
   "metadata": {},
   "outputs": [],
   "source": [
    "ad_df.write.mode(\"overwrite\").save_as_table(\"ADVERTISING\")"
   ]
  }
 ],
 "metadata": {
  "kernelspec": {
   "display_name": "Python 3",
   "language": "python",
   "name": "python3"
  },
  "language_info": {
   "codemirror_mode": {
    "name": "ipython",
    "version": 3
   },
   "file_extension": ".py",
   "mimetype": "text/x-python",
   "name": "python",
   "nbconvert_exporter": "python",
   "pygments_lexer": "ipython3",
   "version": "3.10.11"
  }
 },
 "nbformat": 4,
 "nbformat_minor": 2
}
