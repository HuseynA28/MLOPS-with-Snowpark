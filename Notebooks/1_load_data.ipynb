{
  "cells": [
    {
      "cell_type": "code",
      "execution_count": 1,
      "metadata": {},
      "outputs": [],
      "source": [
        "import pandas as pd\n",
        "import json\n",
        "import snowflake.snowpark.functions as F\n",
        "from snowflake.ml.utils.connection_params import SnowflakeLoginOptions\n",
        "from snowflake.snowpark import Session"
      ]
    },
    {
      "cell_type": "code",
      "execution_count": 2,
      "metadata": {},
      "outputs": [
        {
          "name": "stdout",
          "output_type": "stream",
          "text": [
            "Current Database and schema: \"SNOWPARK\".\"TITANIC\"\n",
            "Current Warehouse: \"COMPUTE_WH\"\n"
          ]
        }
      ],
      "source": [
        "#with open(r'C:\\Users\\habdullayev\\Documents\\GitHub\\SnowflakeML\\Snowflake_ML_Intro\\creds.json') as f:\n",
        "#    connection_parameters = json.load(f)\n",
        "#session = Session.builder.configs(connection_parameters).create()\n",
        "#print(f\"Current Database and schema: {session.get_fully_qualified_current_schema()}\")\n",
        "#print(f\"Current Warehouse: {session.get_current_warehouse()}\")"
      ]
    },
    {
      "cell_type": "code",
      "execution_count": 3,
      "metadata": {},
      "outputs": [
        {
          "name": "stderr",
          "output_type": "stream",
          "text": [
            "SnowflakeLoginOptions() is in private preview since 0.2.0. Do not use it in production. \n"
          ]
        }
      ],
      "source": [
        "session = Session.builder.configs(SnowflakeLoginOptions()).getOrCreate()"
      ]
    },
    {
      "cell_type": "code",
      "execution_count": 4,
      "metadata": {},
      "outputs": [
        {
          "data": {
            "text/plain": [
              "[Row(status='Schema ADVERTISING successfully created.')]"
            ]
          },
          "execution_count": 4,
          "metadata": {},
          "output_type": "execute_result"
        }
      ],
      "source": [
        "session.sql(\"CREATE DATABASE IF NOT EXISTS MLOPS;\").collect()\n",
        "session.sql(\"CREATE SCHEMA IF NOT EXISTS MLOPS.advertising;\").collect()"
      ]
    },
    {
      "cell_type": "code",
      "execution_count": 5,
      "metadata": {},
      "outputs": [
        {
          "data": {
            "text/plain": [
              "[Row(status='Stage area ML_DATA successfully created.')]"
            ]
          },
          "execution_count": 5,
          "metadata": {},
          "output_type": "execute_result"
        }
      ],
      "source": [
        "session.sql(\"CREATE STAGE if not exists ML_DATA\").collect()"
      ]
    },
    {
      "cell_type": "code",
      "execution_count": 19,
      "metadata": {},
      "outputs": [],
      "source": [
        "ad = pd.read_csv(\n",
        "    'https://raw.githubusercontent.com/HuseynA28/Snowflake-MLOPS/main/dataset/advertising.csv'\n",
        ")\n",
        "ad.columns = [c.upper() for c in ad.columns]\n",
        "ad.to_csv(\"advertising.csv\", index=False)"
      ]
    },
    {
      "cell_type": "code",
      "execution_count": 20,
      "metadata": {},
      "outputs": [
        {
          "data": {
            "text/plain": [
              "[PutResult(source='advertising.csv', target='advertising.csv.gz', source_size=4224, target_size=1792, source_compression='NONE', target_compression='GZIP', status='UPLOADED', message='')]"
            ]
          },
          "execution_count": 20,
          "metadata": {},
          "output_type": "execute_result"
        }
      ],
      "source": [
        "session.file.put(\"advertising.csv\", \"@ml_data\", overwrite=True)"
      ]
    },
    {
      "cell_type": "markdown",
      "metadata": {},
      "source": [
        "Use the PUT command to upload a local CSV file to a Snowflake stage."
      ]
    },
    {
      "cell_type": "code",
      "execution_count": 21,
      "metadata": {},
      "outputs": [
        {
          "name": "stdout",
          "output_type": "stream",
          "text": [
            "-------------------------------------------\n",
            "|\"TV\"   |\"RADIO\"  |\"NEWSPAPER\"  |\"SALES\"  |\n",
            "-------------------------------------------\n",
            "|230.1  |37.8     |69.2         |22.1     |\n",
            "|44.5   |39.3     |45.1         |10.4     |\n",
            "|17.2   |45.9     |69.3         |12.0     |\n",
            "|151.5  |41.3     |58.5         |16.5     |\n",
            "|180.8  |10.8     |58.4         |17.9     |\n",
            "|8.7    |48.9     |75.0         |7.2      |\n",
            "|57.5   |32.8     |23.5         |11.8     |\n",
            "|120.2  |19.6     |11.6         |13.2     |\n",
            "|8.6    |2.1      |1.0          |4.8      |\n",
            "|199.8  |2.6      |21.2         |15.6     |\n",
            "-------------------------------------------\n",
            "\n"
          ]
        }
      ],
      "source": [
        "# Create a Snowpark DataFrame that is configured to load data from the CSV file\n",
        "avertising_df = (\n",
        "    session.read.option(\"infer_schema\", True)\n",
        "    .option(\"PARSE_HEADER\", True)\n",
        "    .csv(\"@ml_data/advertising.csv\")\n",
        ")\n",
        "avertising_df.show()"
      ]
    },
    {
      "cell_type": "code",
      "execution_count": 17,
      "metadata": {},
      "outputs": [
        {
          "name": "stdout",
          "output_type": "stream",
          "text": [
            "-------------------------------------------\n",
            "|\"TV\"   |\"RADIO\"  |\"NEWSPAPER\"  |\"SALES\"  |\n",
            "-------------------------------------------\n",
            "|230_1  |37_8     |69_2         |22_1     |\n",
            "|44_5   |39_3     |45_1         |10_4     |\n",
            "|17_2   |45_9     |69_3         |12_0     |\n",
            "|151_5  |41_3     |58_5         |16_5     |\n",
            "|180_8  |10_8     |58_4         |17_9     |\n",
            "|8_7    |48_9     |75_0         |7_2      |\n",
            "|57_5   |32_8     |23_5         |11_8     |\n",
            "|120_2  |19_6     |11_6         |13_2     |\n",
            "|8_6    |2_1      |1_0          |4_8      |\n",
            "|199_8  |2_6      |21_2         |15_6     |\n",
            "-------------------------------------------\n",
            "\n"
          ]
        }
      ],
      "source": [
        "def fix_values(column):\n",
        "    return F.upper(F.regexp_replace(F.col(column), \"[^a-zA-Z0-9]+\", \"_\"))\n",
        "\n",
        "\n",
        "for col in [\"TV\", \"RADIO\", \"NEWSPAPER\", \"SALES\"]:\n",
        "    avertising_df = avertising_df.with_column(col, fix_values(col))\n",
        "\n",
        "avertising_df.show()"
      ]
    },
    {
      "cell_type": "code",
      "execution_count": 18,
      "metadata": {},
      "outputs": [],
      "source": [
        "avertising_df.write.mode(\"overwrite\").save_as_table(\"avertising\")"
      ]
    }
  ],
  "metadata": {
    "kernelspec": {
      "display_name": "Python 3",
      "language": "python",
      "name": "python3"
    },
    "language_info": {
      "codemirror_mode": {
        "name": "ipython",
        "version": 3
      },
      "file_extension": ".py",
      "mimetype": "text/x-python",
      "name": "python",
      "nbconvert_exporter": "python",
      "pygments_lexer": "ipython3",
      "version": "3.10.11"
    }
  },
  "nbformat": 4,
  "nbformat_minor": 2
}
