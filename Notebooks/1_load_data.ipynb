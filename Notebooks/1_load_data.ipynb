{
  "cells": [
    {
      "cell_type": "code",
      "execution_count": null,
      "metadata": {},
      "outputs": [],
      "source": [
        "import pandas as pd\n",
        "import json\n",
        "import os\n",
        "import snowflake.snowpark.functions as F\n",
        "from snowflake.ml.utils.connection_params import SnowflakeLoginOptions\n",
        "from snowflake.snowpark import Session"
      ]
    },
    {
      "cell_type": "code",
      "execution_count": null,
      "metadata": {},
      "outputs": [],
      "source": [
        "from snowflake.snowpark import Session\n",
        "\n",
        "# Assuming you have environment variables set for the credentials\n",
        "connection_parameters = {\n",
        "    \"account\": os.getenv(\"SNOWFLAKE_ACCOUNT\"),\n",
        "    \"user\": os.getenv(\"SNOWFLAKE_USER\"),\n",
        "    \"password\": os.getenv(\"SNOWFLAKE_PASSWORD\"),\n",
        "    \"schema\": os.getenv(\"SNOWFLAKE_SCHEMA\"),\n",
        "    \"database\": os.getenv(\"SNOWFLAKE_DATABASE\"),\n",
        "    \"role\": os.getenv(\"SNOWFLAKE_ROLE\"),\n",
        "    \"warehouse\": os.getenv(\"SNOWFLAKE_WAREHOUSE\"),\n",
        "}\n",
        "\n",
        "session = Session.builder.configs(connection_parameters).create()\n"
      ]
    },
    {
      "cell_type": "code",
      "execution_count": null,
      "metadata": {},
      "outputs": [],
      "source": [
        "#session = Session.builder.configs(SnowflakeLoginOptions()).getOrCreate()"
      ]
    },
    {
      "cell_type": "code",
      "execution_count": null,
      "metadata": {},
      "outputs": [],
      "source": [
        "session.sql(\"CREATE TRANSIENT  DATABASE IF NOT EXISTS MLOPS;\").collect()\n",
        "session.sql(\"CREATE  TRANSIENT  SCHEMA IF NOT EXISTS MLOPS.advertising;\").collect()\n",
        "session.sql(\"USE DATABASE MLOPS\").collect()\n",
        "session.sql(\"USE SCHEMA MLOPS.advertising\").collect()"
      ]
    },
    {
      "cell_type": "code",
      "execution_count": null,
      "metadata": {},
      "outputs": [],
      "source": [
        "session.sql(\"CREATE STAGE if not exists ML_DATA\").collect()"
      ]
    },
    {
      "cell_type": "code",
      "execution_count": null,
      "metadata": {},
      "outputs": [],
      "source": [
        "ad = pd.read_csv(\n",
        "    'https://raw.githubusercontent.com/HuseynA28/Snowflake-MLOPS/main/dataset/advertising.csv'\n",
        ")\n",
        "ad.columns = [c.upper() for c in ad.columns]\n",
        "ad.to_csv(\"advertising.csv\", index=False)"
      ]
    },
    {
      "cell_type": "code",
      "execution_count": null,
      "metadata": {},
      "outputs": [],
      "source": [
        "session.file.put(\"advertising.csv\", \"@ml_data\", overwrite=True)"
      ]
    },
    {
      "cell_type": "markdown",
      "metadata": {},
      "source": [
        "Use the PUT command to upload a local CSV file to a Snowflake stage."
      ]
    },
    {
      "cell_type": "code",
      "execution_count": null,
      "metadata": {},
      "outputs": [],
      "source": [
        "# Create a Snowpark DataFrame that is configured to load data from the CSV file\n",
        "avertising_df = (\n",
        "    session.read.option(\"infer_schema\", True)\n",
        "    .option(\"PARSE_HEADER\", True)\n",
        "    .csv(\"@ml_data/advertising.csv\")\n",
        ")\n",
        "avertising_df.show()"
      ]
    },
    {
      "cell_type": "code",
      "execution_count": null,
      "metadata": {},
      "outputs": [],
      "source": [
        "def fix_values(column):\n",
        "    return F.upper(F.regexp_replace(F.col(column), \"[^a-zA-Z0-9]+\", \"_\"))\n",
        "\n",
        "\n",
        "for col in [\"TV\", \"RADIO\", \"NEWSPAPER\", \"SALES\"]:\n",
        "    avertising_df = avertising_df.with_column(col, fix_values(col))\n",
        "\n",
        "avertising_df.show()"
      ]
    },
    {
      "cell_type": "code",
      "execution_count": null,
      "metadata": {},
      "outputs": [],
      "source": [
        "avertising_df.write.mode(\"overwrite\").save_as_table(\"avertising\")"
      ]
    }
  ],
  "metadata": {
    "kernelspec": {
      "display_name": "Python 3",
      "language": "python",
      "name": "python3"
    },
    "language_info": {
      "codemirror_mode": {
        "name": "ipython",
        "version": 3
      },
      "file_extension": ".py",
      "mimetype": "text/x-python",
      "name": "python",
      "nbconvert_exporter": "python",
      "pygments_lexer": "ipython3",
      "version": "3.10.11"
    }
  },
  "nbformat": 4,
  "nbformat_minor": 2
}
