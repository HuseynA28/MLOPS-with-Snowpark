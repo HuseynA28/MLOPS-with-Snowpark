{
 "cells": [
  {
   "cell_type": "code",
   "execution_count": 1,
   "metadata": {},
   "outputs": [],
   "source": [
    "import ast\n",
    "import json\n",
    "import warnings\n",
    "import os\n",
    "import pandas as pd\n",
    "from snowflake.ml.modeling.impute import SimpleImputer\n",
    "from snowflake.ml.modeling.metrics import accuracy_score\n",
    "from snowflake.ml.modeling.model_selection import GridSearchCV\n",
    "from snowflake.ml.modeling.preprocessing import OneHotEncoder\n",
    "from snowflake.ml.modeling.xgboost import XGBClassifier\n",
    "from snowflake.ml.registry import Registry\n",
    "from snowflake.ml.utils.connection_params import SnowflakeLoginOptions\n",
    "from snowflake.snowpark import Session\n",
    "from snowflake.snowpark import types as T\n",
    "from snowflake.snowpark.functions import col\n",
    "\n",
    "warnings.simplefilter(action=\"ignore\", category=UserWarning)"
   ]
  },
  {
   "cell_type": "code",
   "execution_count": 2,
   "metadata": {},
   "outputs": [],
   "source": [
    "connection_parameters = {\n",
    "    \"account\": os.getenv(\"SNOWFLAKE_ACCOUNT\"),\n",
    "    \"user\": os.getenv(\"SNOWFLAKE_USER\"),\n",
    "    \"password\": os.getenv(\"SNOWFLAKE_PASSWORD\"),\n",
    "    \"schema\": os.getenv(\"SNOWFLAKE_SCHEMA\"),\n",
    "    \"database\": os.getenv(\"SNOWFLAKE_DATABASE\"),\n",
    "    \"role\": os.getenv(\"SNOWFLAKE_ROLE\"),\n",
    "    \"warehouse\": os.getenv(\"SNOWFLAKE_WAREHOUSE\"),\n",
    "}\n",
    "\n",
    "session = Session.builder.configs(connection_parameters).create()\n"
   ]
  },
  {
   "cell_type": "code",
   "execution_count": 3,
   "metadata": {},
   "outputs": [
    {
     "name": "stdout",
     "output_type": "stream",
     "text": [
      "Current Database and schema: \"MLOPS\".\"ADVERTISING\"\n",
      "Current Warehouse: \"COMPUTE_WH\"\n"
     ]
    }
   ],
   "source": [
    "\n",
    "print(f\"Current Database and schema: {session.get_fully_qualified_current_schema()}\")\n",
    "print(f\"Current Warehouse: {session.get_current_warehouse()}\")"
   ]
  },
  {
   "cell_type": "code",
   "execution_count": 4,
   "metadata": {},
   "outputs": [],
   "source": [
    "ad_df = session.table(\"ADVERTISING\")\n"
   ]
  },
  {
   "cell_type": "code",
   "execution_count": 5,
   "metadata": {},
   "outputs": [
    {
     "name": "stdout",
     "output_type": "stream",
     "text": [
      "-------------------------------------------\n",
      "|\"TV\"   |\"RADIO\"  |\"NEWSPAPER\"  |\"SALES\"  |\n",
      "-------------------------------------------\n",
      "|230.1  |37.8     |69.2         |22.1     |\n",
      "|44.5   |39.3     |45.1         |10.4     |\n",
      "|17.2   |45.9     |69.3         |12.0     |\n",
      "|151.5  |41.3     |58.5         |16.5     |\n",
      "|180.8  |10.8     |58.4         |17.9     |\n",
      "|8.7    |48.9     |75.0         |7.2      |\n",
      "|57.5   |32.8     |23.5         |11.8     |\n",
      "|120.2  |19.6     |11.6         |13.2     |\n",
      "|8.6    |2.1      |1.0          |4.8      |\n",
      "|199.8  |2.6      |21.2         |15.6     |\n",
      "-------------------------------------------\n",
      "\n"
     ]
    }
   ],
   "source": [
    "ad_df.show()"
   ]
  },
  {
   "cell_type": "code",
   "execution_count": 6,
   "metadata": {},
   "outputs": [],
   "source": [
    "train_df, test_df = ad_df.random_split(weights=[0.8, 0.2], seed=8)"
   ]
  },
  {
   "cell_type": "code",
   "execution_count": 7,
   "metadata": {},
   "outputs": [
    {
     "data": {
      "text/plain": [
       "[Row(status='Statement executed successfully.')]"
      ]
     },
     "execution_count": 7,
     "metadata": {},
     "output_type": "execute_result"
    }
   ],
   "source": [
    "session.sql(\n",
    "    f\"ALTER WAREHOUSE {session.get_current_warehouse()[1:-1]} SET WAREHOUSE_SIZE=LARGE;\"\n",
    ").collect()"
   ]
  },
  {
   "cell_type": "code",
   "execution_count": 8,
   "metadata": {},
   "outputs": [],
   "source": [
    "parameter_grid = [\n",
    "    {'n_estimators': 250, 'max_depth': 45, 'learning_rate': 0.01, 'subsample': 0.8, 'colsample_bytree': 0.8},\n",
    "    {'n_estimators': 300, 'max_depth': 50, 'learning_rate': 0.01, 'subsample': 0.8, 'colsample_bytree': 0.9},\n",
    "    {'n_estimators': 350, 'max_depth': 70, 'learning_rate': 0.01, 'subsample': 0.8, 'colsample_bytree': 0.9},\n",
    "    {'n_estimators': 400, 'max_depth': 100, 'learning_rate': 0.01, 'subsample': 1, 'colsample_bytree': 0.9},\n",
    "    {'n_estimators': 600, 'max_depth': 150, 'learning_rate': 0.01, 'subsample': 1, 'colsample_bytree': 0.9},\n",
    "]\n"
   ]
  },
  {
   "cell_type": "code",
   "execution_count": 20,
   "metadata": {},
   "outputs": [
    {
     "name": "stdout",
     "output_type": "stream",
     "text": [
      "Parameters: n_estimators=250, max_depth=45, learning_rate=0.01, subsample=0.8, colsample_bytree=0.8 -> R2 Score: 0.766387804819972\n",
      "Parameters: n_estimators=300, max_depth=50, learning_rate=0.01, subsample=0.8, colsample_bytree=0.9 -> R2 Score: 0.8402931392007842\n",
      "Parameters: n_estimators=350, max_depth=70, learning_rate=0.01, subsample=0.8, colsample_bytree=0.9 -> R2 Score: 0.8772703692786791\n",
      "Parameters: n_estimators=400, max_depth=100, learning_rate=0.01, subsample=1, colsample_bytree=0.9 -> R2 Score: 0.8951463194303564\n",
      "Parameters: n_estimators=600, max_depth=150, learning_rate=0.01, subsample=1, colsample_bytree=0.9 -> R2 Score: 0.916201064193848\n"
     ]
    }
   ],
   "source": [
    "from snowflake.ml.modeling.xgboost import XGBRegressor\n",
    "\n",
    "def train_and_evaluate(params, train_df, test_df):\n",
    "    model = XGBRegressor(\n",
    "        n_estimators=params['n_estimators'],\n",
    "        max_depth=params['max_depth'],\n",
    "        learning_rate=params['learning_rate'],\n",
    "        subsample=params['subsample'],\n",
    "        colsample_bytree=params['colsample_bytree'],\n",
    "        input_cols=['TV', 'RADIO', 'NEWSPAPER'],\n",
    "        label_cols='SALES', \n",
    "        output_cols='predicted_sales'\n",
    "    )\n",
    "    model.fit(train_df)\n",
    "    r2_score = model.score(test_df)\n",
    "    return model, r2_score\n",
    "\n",
    "results = []\n",
    "for params in parameter_grid:\n",
    "    model, r2 = train_and_evaluate(params, train_df, test_df)\n",
    "    results.append((params, r2, model))\n",
    "\n",
    "for result in results:\n",
    "    params, score, _ = result\n",
    "    param_str = ', '.join(f\"{k}={v}\" for k, v in params.items())\n",
    "    print(f\"Parameters: {param_str} -> R2 Score: {score}\")\n"
   ]
  },
  {
   "cell_type": "code",
   "execution_count": 21,
   "metadata": {},
   "outputs": [
    {
     "name": "stdout",
     "output_type": "stream",
     "text": [
      "Best Parameters: n_estimators=600, max_depth=150, learning_rate=0.01, subsample=1, colsample_bytree=0.9\n",
      "Best R2 Score: 0.916201064193848\n"
     ]
    }
   ],
   "source": [
    "best_params, best_score, best_model = max(results, key=lambda x: x[1])\n",
    "best_param_str = ', '.join(f\"{k}={v}\" for k, v in best_params.items())\n",
    "print(f\"Best Parameters: {best_param_str}\")\n",
    "print(f\"Best R2 Score: {best_score}\")"
   ]
  },
  {
   "cell_type": "code",
   "execution_count": 22,
   "metadata": {},
   "outputs": [],
   "source": [
    "predictions = best_model.predict(test_df)"
   ]
  },
  {
   "cell_type": "code",
   "execution_count": 23,
   "metadata": {},
   "outputs": [
    {
     "name": "stdout",
     "output_type": "stream",
     "text": [
      "----------------------------------------------------------------\n",
      "|\"TV\"   |\"RADIO\"  |\"NEWSPAPER\"  |\"SALES\"  |\"predicted_sales\"   |\n",
      "----------------------------------------------------------------\n",
      "|8.7    |48.9     |75.0         |7.2      |11.234919548034668  |\n",
      "|57.5   |32.8     |23.5         |11.8     |11.47921371459961   |\n",
      "|120.2  |19.6     |11.6         |13.2     |13.154800415039062  |\n",
      "|199.8  |2.6      |21.2         |15.6     |16.5615177154541    |\n",
      "|97.5   |7.6      |7.2          |13.7     |12.398638725280762  |\n",
      "|195.4  |47.7     |52.9         |22.4     |22.05717658996582   |\n",
      "|62.3   |12.6     |18.3         |9.7      |9.181100845336914   |\n",
      "|70.6   |16.0     |40.8         |10.5     |11.217970848083496  |\n",
      "|112.9  |17.4     |38.6         |11.9     |12.820030212402344  |\n",
      "|95.7   |1.4      |7.4          |11.9     |12.086431503295898  |\n",
      "----------------------------------------------------------------\n",
      "\n"
     ]
    }
   ],
   "source": [
    "predictions.show()"
   ]
  },
  {
   "cell_type": "code",
   "execution_count": null,
   "metadata": {},
   "outputs": [
    {
     "data": {
      "text/plain": [
       "[Row(status='Statement executed successfully.')]"
      ]
     },
     "execution_count": 97,
     "metadata": {},
     "output_type": "execute_result"
    }
   ],
   "source": [
    "session.sql(\n",
    "    f\"ALTER WAREHOUSE {session.get_current_warehouse()[1:-1]} SET WAREHOUSE_SIZE=XSMALL;\"\n",
    ").collect()"
   ]
  },
  {
   "cell_type": "markdown",
   "metadata": {},
   "source": [
    "###  Log the Model to the Registry"
   ]
  },
  {
   "cell_type": "code",
   "execution_count": 24,
   "metadata": {},
   "outputs": [],
   "source": [
    "reg = Registry(session=session)\n",
    "\n"
   ]
  },
  {
   "cell_type": "code",
   "execution_count": 25,
   "metadata": {},
   "outputs": [],
   "source": [
    "model_version = reg.log_model(\n",
    "    model=best_model,\n",
    "    model_name=\"XGBRegressorModel\",\n",
    "    version_name=\"v1\",\n",
    "    conda_dependencies=[\"xgboost\", \"pandas\", \"numpy\"],  \n",
    "    comment=\"Initial version of the XGB Regressor model\",\n",
    "    metrics={\"R2 Score\": best_score}  # Assuming `best_score` is available from your training\n",
    ")\n"
   ]
  },
  {
   "cell_type": "markdown",
   "metadata": {},
   "source": [
    "## Use the Model for Predictions"
   ]
  },
  {
   "cell_type": "code",
   "execution_count": 30,
   "metadata": {},
   "outputs": [],
   "source": [
    "model_ref = reg.get_model(\"XGBRegressorModel\")\n",
    "\n"
   ]
  }
 ],
 "metadata": {
  "kernelspec": {
   "display_name": "Python 3",
   "language": "python",
   "name": "python3"
  },
  "language_info": {
   "codemirror_mode": {
    "name": "ipython",
    "version": 3
   },
   "file_extension": ".py",
   "mimetype": "text/x-python",
   "name": "python",
   "nbconvert_exporter": "python",
   "pygments_lexer": "ipython3",
   "version": "3.11.9"
  }
 },
 "nbformat": 4,
 "nbformat_minor": 2
}
