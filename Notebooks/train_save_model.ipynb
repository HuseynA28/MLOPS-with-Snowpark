{
 "cells": [
  {
   "cell_type": "code",
   "execution_count": 21,
   "metadata": {},
   "outputs": [],
   "source": [
    "import snowflake.snowpark.functions as F\n",
    "from snowflake.snowpark.types import VariantType\n",
    "\n",
    "from snowflake.snowpark.session import Session\n",
    "from snowflake.snowpark.types import StructType, StructField, FloatType\n",
    "from snowflake.snowpark import Session\n",
    "import os\n",
    "import json"
   ]
  },
  {
   "cell_type": "code",
   "execution_count": 22,
   "metadata": {},
   "outputs": [
    {
     "name": "stdout",
     "output_type": "stream",
     "text": [
      "Current Database and schema: \"MLOPS\".\"ADVERTISING\"\n",
      "Current Warehouse: \"COMPUTE_WH\"\n"
     ]
    }
   ],
   "source": [
    "with open(r'C:\\Users\\habdullayev\\Documents\\GitHub\\SnowflakeML\\Snowflake_ML_Intro\\creds.json') as f:\n",
    "    connection_parameters = json.load(f)\n",
    "\n",
    "session = Session.builder.configs(connection_parameters).create()\n",
    "print(f\"Current Database and schema: {session.get_fully_qualified_current_schema()}\")\n",
    "print(f\"Current Warehouse: {session.get_current_warehouse()}\")"
   ]
  },
  {
   "cell_type": "code",
   "execution_count": 23,
   "metadata": {},
   "outputs": [],
   "source": [
    "ad_df = session.table(\"ADVERTISING\")\n"
   ]
  },
  {
   "cell_type": "code",
   "execution_count": 24,
   "metadata": {},
   "outputs": [
    {
     "data": {
      "text/plain": [
       "[Row(status='Stage area ML_MODELS successfully created.')]"
      ]
     },
     "execution_count": 24,
     "metadata": {},
     "output_type": "execute_result"
    }
   ],
   "source": [
    "# Stage for storing the trained model without specifying file format\n",
    "session.sql(\"\"\"\n",
    "CREATE OR REPLACE STAGE ml_models\n",
    "\"\"\").collect()\n",
    "\n"
   ]
  },
  {
   "cell_type": "code",
   "execution_count": 25,
   "metadata": {},
   "outputs": [
    {
     "data": {
      "text/plain": [
       "[Row(status='Function TRAIN successfully created.')]"
      ]
     },
     "execution_count": 25,
     "metadata": {},
     "output_type": "execute_result"
    }
   ],
   "source": [
    "# Create a session\n",
    "session = Session.builder.configs(connection_parameters).create()\n",
    "\n",
    "# SQL to create a warehouse\n",
    "create_warehouse_sql = \"\"\"\n",
    "CREATE OR REPLACE WAREHOUSE snowpark_opt_wh WITH\n",
    "  WAREHOUSE_SIZE = 'MEDIUM'\n",
    "  WAREHOUSE_TYPE = 'SNOWPARK-OPTIMIZED'\n",
    "  MAX_CONCURRENCY_LEVEL = 1;\n",
    "\"\"\"\n",
    "\n",
    "# Execute SQL through Snowpark session\n",
    "session.sql(create_warehouse_sql).collect()\n",
    "\n",
    "# SQL to create a stored procedure\n",
    "create_procedure_sql = \"\"\"\n",
    "CREATE OR REPLACE PROCEDURE train()\n",
    "  RETURNS VARIANT\n",
    "  LANGUAGE PYTHON\n",
    "  RUNTIME_VERSION = 3.11\n",
    "  PACKAGES = ('snowflake-snowpark-python', 'scikit-learn', 'joblib')\n",
    "  HANDLER = 'main'\n",
    "AS $$\n",
    "import os\n",
    "from sklearn.compose import ColumnTransformer\n",
    "from sklearn.pipeline import Pipeline\n",
    "from sklearn.preprocessing import PolynomialFeatures\n",
    "from sklearn.preprocessing import StandardScaler\n",
    "from sklearn.linear_model import LinearRegression\n",
    "from sklearn.model_selection import train_test_split, GridSearchCV\n",
    "from joblib import dump\n",
    "\n",
    "def main(session):\n",
    "  df = session.table('ADVERTISING').to_pandas()\n",
    "  X = df[['TV', 'RADIO', 'NEWSPAPER']]\n",
    "  y = df['SALES']\n",
    "  X_train, X_test, y_train, y_test = train_test_split(X, y, test_size=0.2, random_state = 42)\n",
    "  numeric_features = ['TV', 'RADIO', 'NEWSPAPER']\n",
    "  numeric_transformer = Pipeline(steps=[('poly',PolynomialFeatures(degree = 2)),('scaler', StandardScaler())])\n",
    "  preprocessor = ColumnTransformer(transformers=[('num', numeric_transformer, numeric_features)])\n",
    "  pipeline = Pipeline(steps=[('preprocessor', preprocessor),('classifier', LinearRegression(n_jobs=-1))])\n",
    "  model = GridSearchCV(pipeline, param_grid={}, n_jobs=-1, cv=10)\n",
    "  model.fit(X_train, y_train)\n",
    "  model_file = os.path.join('/tmp', 'model.joblib')\n",
    "  dump(model, model_file)\n",
    "  session.file.put(model_file, \"@ml_models\",overwrite=True)\n",
    "  return {\"R2 score on Train\": model.score(X_train, y_train), \"R2 score on Test\": model.score(X_test, y_test)}\n",
    "$$;\n",
    "\"\"\"\n",
    "\n",
    "# Execute SQL to create the stored procedure\n",
    "session.sql(create_procedure_sql).collect()\n",
    "\n"
   ]
  },
  {
   "cell_type": "code",
   "execution_count": 26,
   "metadata": {},
   "outputs": [
    {
     "data": {
      "text/plain": [
       "'{\\n  \"R2 score on Test\": 9.533174341074796e-01,\\n  \"R2 score on Train\": 9.288133512730626e-01\\n}'"
      ]
     },
     "execution_count": 26,
     "metadata": {},
     "output_type": "execute_result"
    }
   ],
   "source": [
    "session.call('train')"
   ]
  },
  {
   "cell_type": "code",
   "execution_count": 27,
   "metadata": {},
   "outputs": [
    {
     "ename": "ImportError",
     "evalue": "cannot import name 'Registry' from 'snowflake.ml.registry' (unknown location)",
     "output_type": "error",
     "traceback": [
      "\u001b[1;31m---------------------------------------------------------------------------\u001b[0m",
      "\u001b[1;31mImportError\u001b[0m                               Traceback (most recent call last)",
      "Cell \u001b[1;32mIn[27], line 2\u001b[0m\n\u001b[0;32m      1\u001b[0m \u001b[38;5;28;01mfrom\u001b[39;00m \u001b[38;5;21;01msnowflake\u001b[39;00m\u001b[38;5;21;01m.\u001b[39;00m\u001b[38;5;21;01msnowpark\u001b[39;00m \u001b[38;5;28;01mimport\u001b[39;00m Session\n\u001b[1;32m----> 2\u001b[0m \u001b[38;5;28;01mfrom\u001b[39;00m \u001b[38;5;21;01msnowflake\u001b[39;00m\u001b[38;5;21;01m.\u001b[39;00m\u001b[38;5;21;01mml\u001b[39;00m\u001b[38;5;21;01m.\u001b[39;00m\u001b[38;5;21;01mregistry\u001b[39;00m \u001b[38;5;28;01mimport\u001b[39;00m Registry\n\u001b[0;32m      3\u001b[0m \u001b[38;5;28;01mimport\u001b[39;00m \u001b[38;5;21;01mjoblib\u001b[39;00m\n",
      "\u001b[1;31mImportError\u001b[0m: cannot import name 'Registry' from 'snowflake.ml.registry' (unknown location)"
     ]
    }
   ],
   "source": [
    "from snowflake.snowpark import Session\n",
    "from snowflake.ml.registry import Registry\n",
    "import joblib\n",
    "\n"
   ]
  },
  {
   "cell_type": "code",
   "execution_count": null,
   "metadata": {},
   "outputs": [
    {
     "ename": "NameError",
     "evalue": "name 'registry' is not defined",
     "output_type": "error",
     "traceback": [
      "\u001b[1;31m---------------------------------------------------------------------------\u001b[0m",
      "\u001b[1;31mNameError\u001b[0m                                 Traceback (most recent call last)",
      "Cell \u001b[1;32mIn[10], line 2\u001b[0m\n\u001b[0;32m      1\u001b[0m \u001b[38;5;66;03m# Create a registry instance\u001b[39;00m\n\u001b[1;32m----> 2\u001b[0m registry \u001b[38;5;241m=\u001b[39m \u001b[43mregistry\u001b[49m\u001b[38;5;241m.\u001b[39mRegistry(session, database_name\u001b[38;5;241m=\u001b[39m\u001b[38;5;124m'\u001b[39m\u001b[38;5;124mMLOPS\u001b[39m\u001b[38;5;124m'\u001b[39m, schema_name\u001b[38;5;241m=\u001b[39m\u001b[38;5;124m'\u001b[39m\u001b[38;5;124mADVERTISING\u001b[39m\u001b[38;5;124m'\u001b[39m)\n\u001b[0;32m      4\u001b[0m \u001b[38;5;66;03m# Register the model\u001b[39;00m\n\u001b[0;32m      5\u001b[0m model_version \u001b[38;5;241m=\u001b[39m registry\u001b[38;5;241m.\u001b[39mlog_model(\n\u001b[0;32m      6\u001b[0m     model_name\u001b[38;5;241m=\u001b[39m\u001b[38;5;124m\"\u001b[39m\u001b[38;5;124mAdvertisingModel\u001b[39m\u001b[38;5;124m\"\u001b[39m,\n\u001b[0;32m      7\u001b[0m     model_version\u001b[38;5;241m=\u001b[39m\u001b[38;5;124m\"\u001b[39m\u001b[38;5;124mv1\u001b[39m\u001b[38;5;124m\"\u001b[39m,\n\u001b[0;32m      8\u001b[0m     model_path\u001b[38;5;241m=\u001b[39m\u001b[38;5;124m\"\u001b[39m\u001b[38;5;124m@ml_models/model.joblib\u001b[39m\u001b[38;5;124m\"\u001b[39m\n\u001b[0;32m      9\u001b[0m )\n",
      "\u001b[1;31mNameError\u001b[0m: name 'registry' is not defined"
     ]
    }
   ],
   "source": [
    "# Create a registry instance\n",
    "registry = registry.Registry(session, database_name='MLOPS', schema_name='ADVERTISING')\n",
    "\n",
    "# Register the model\n",
    "model_version = registry.log_model(\n",
    "    model_name=\"AdvertisingModel\",\n",
    "    model_version=\"v1\",\n",
    "    model_path=\"@ml_models/model.joblib\"\n",
    ")"
   ]
  }
 ],
 "metadata": {
  "kernelspec": {
   "display_name": "Python 3",
   "language": "python",
   "name": "python3"
  },
  "language_info": {
   "codemirror_mode": {
    "name": "ipython",
    "version": 3
   },
   "file_extension": ".py",
   "mimetype": "text/x-python",
   "name": "python",
   "nbconvert_exporter": "python",
   "pygments_lexer": "ipython3",
   "version": "3.11.5"
  }
 },
 "nbformat": 4,
 "nbformat_minor": 2
}
